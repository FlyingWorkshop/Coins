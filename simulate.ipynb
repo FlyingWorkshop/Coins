{
 "cells": [
  {
   "cell_type": "code",
   "execution_count": 199,
   "metadata": {
    "collapsed": true
   },
   "outputs": [],
   "source": [
    "import matplotlib.pyplot as plt\n",
    "\n",
    "import utils"
   ]
  },
  {
   "cell_type": "code",
   "execution_count": 200,
   "metadata": {
    "pycharm": {
     "name": "#%%\n"
    }
   },
   "outputs": [],
   "source": [
    "points = utils.make_n_random_points(10)  # uses default bounds (0, 1) from utils"
   ]
  },
  {
   "cell_type": "code",
   "execution_count": 201,
   "metadata": {
    "pycharm": {
     "name": "#%%\n"
    }
   },
   "outputs": [
    {
     "name": "stdout",
     "output_type": "stream",
     "text": [
      "True\n"
     ]
    }
   ],
   "source": [
    "coins, valid, loops = utils.find_hexagonal_packing(points=points,\n",
    "                                                   coin_radius=0.9,\n",
    "                                                   step_size=0.01,\n",
    "                                                   max_loops=None)\n",
    "\n",
    "print(valid)\n"
   ]
  },
  {
   "cell_type": "code",
   "execution_count": 202,
   "metadata": {
    "pycharm": {
     "name": "#%%\n"
    }
   },
   "outputs": [
    {
     "data": {
      "text/plain": "<Figure size 432x288 with 1 Axes>",
      "image/png": "[encoded data removed]"
     },
     "metadata": {
      "needs_background": "light"
     },
     "output_type": "display_data"
    }
   ],
   "source": [
    "fig, ax = plt.subplots()\n",
    "ax.set_aspect(1)  # aspect ratio set to 1 so circles don't deform\n",
    "ax.set_ylim([*utils.BOUNDS])\n",
    "ax.set_xlim([*utils.BOUNDS])\n",
    "\n",
    "# add coins\n",
    "for coin in coins:\n",
    "    ax.add_patch(coin.to_matplotlib_circle())\n",
    "\n",
    "# add points\n",
    "for point in points:\n",
    "    if point.covered_by(coins):\n",
    "        color = \"blue\"\n",
    "    else:\n",
    "        color = \"red\"\n",
    "    ax.scatter(point.x, point.y, c=color)\n",
    "\n",
    "\n",
    "\n",
    "\n"
   ]
  }
 ],
 "metadata": {
  "kernelspec": {
   "display_name": "Python 3 (ipykernel)",
   "language": "python",
   "name": "python3"
  },
  "language_info": {
   "codemirror_mode": {
    "name": "ipython",
    "version": 3
   },
   "file_extension": ".py",
   "mimetype": "text/x-python",
   "name": "python",
   "nbconvert_exporter": "python",
   "pygments_lexer": "ipython3",
   "version": "3.10.0"
  }
 },
 "nbformat": 4,
 "nbformat_minor": 1
}